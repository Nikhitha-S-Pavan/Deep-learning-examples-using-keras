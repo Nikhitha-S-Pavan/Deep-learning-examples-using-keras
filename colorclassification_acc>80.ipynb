{
  "nbformat": 4,
  "nbformat_minor": 0,
  "metadata": {
    "accelerator": "GPU",
    "colab": {
      "name": "colorclassification.ipynb",
      "provenance": [],
      "authorship_tag": "ABX9TyNQRmcKKvWd4hOHawgYnA7K",
      "include_colab_link": true
    },
    "kernelspec": {
      "display_name": "Python 3",
      "name": "python3"
    }
  },
  "cells": [
    {
      "cell_type": "markdown",
      "metadata": {
        "id": "view-in-github",
        "colab_type": "text"
      },
      "source": [
        "<a href=\"https://colab.research.google.com/github/Nikhitha-S-Pavan/Deep-learning-examples-using-keras/blob/main/colorclassification_acc%3E80.ipynb\" target=\"_parent\"><img src=\"https://colab.research.google.com/assets/colab-badge.svg\" alt=\"Open In Colab\"/></a>"
      ]
    },
    {
      "cell_type": "code",
      "metadata": {
        "colab": {
          "base_uri": "https://localhost:8080/"
        },
        "id": "ACptxlb7T5Y2",
        "outputId": "dc84ba36-ac37-48f5-db75-140ef89b98b4"
      },
      "source": [
        "from google.colab import drive\r\n",
        "drive.mount('/content/drive')"
      ],
      "execution_count": 1,
      "outputs": [
        {
          "output_type": "stream",
          "text": [
            "Mounted at /content/drive\n"
          ],
          "name": "stdout"
        }
      ]
    },
    {
      "cell_type": "code",
      "metadata": {
        "id": "56zi2HaOUffs"
      },
      "source": [
        "!unzip -uq \"/content/drive/My Drive/kaggle_dataset/colorclassification.zip\" -d \"/content/drive/My Drive/kaggle_dataset/colorclassification/\""
      ],
      "execution_count": null,
      "outputs": []
    },
    {
      "cell_type": "code",
      "metadata": {
        "id": "3kiwdEh4U-N1"
      },
      "source": [
        "import cv2 \r\n",
        "im = cv2.imread(\"/content/drive/My Drive/kaggle_dataset/colorclassification/colorclassification/resized/yellow/5.jpg\")\r\n",
        "im.shape"
      ],
      "execution_count": null,
      "outputs": []
    },
    {
      "cell_type": "code",
      "metadata": {
        "id": "y9MBTzbsdf4m"
      },
      "source": [
        "# Create directories and subdirectories to save resized images\r\n",
        "import glob\r\n",
        "import os\r\n",
        "import shutil\r\n",
        "\r\n",
        "for dir in glob.glob(\"/content/drive/My Drive/kaggle_dataset/colorclassification/colorclassification/ColorClassification/*/*\"):\r\n",
        "  split= dir.split(\"/\")\r\n",
        "  path_folder = os.path.join(\"/content/drive/My Drive/kaggle_dataset/colorclassification/colorclassification/resized/\",split[8])\r\n",
        "  if os.path.exists(path_folder):\r\n",
        "    continue\r\n",
        "  else:\r\n",
        "    os.makedirs(path_folder)"
      ],
      "execution_count": 24,
      "outputs": []
    },
    {
      "cell_type": "code",
      "metadata": {
        "colab": {
          "base_uri": "https://localhost:8080/"
        },
        "id": "FrMAJY3jquDt",
        "outputId": "b00b6bd5-acdb-4a1f-c9b1-ed1e1d34efd9"
      },
      "source": [
        "import os\r\n",
        "import glob\r\n",
        "os.chdir(\"/content/drive/My Drive/kaggle_dataset/colorclassification/colorclassification/ColorClassification\")\r\n",
        "labels = os.listdir()\r\n",
        "print(labels)"
      ],
      "execution_count": 25,
      "outputs": [
        {
          "output_type": "stream",
          "text": [
            "['Black', 'Blue', 'Brown', 'Green', 'Violet', 'White', 'mask_black', 'mask_blue', 'mask_brown', 'mask_green', 'mask_orange', 'mask_red', 'mask_test', 'mask_violet', 'mask_white', 'mask_yellow', 'orange', 'red', 'yellow']\n"
          ],
          "name": "stdout"
        }
      ]
    },
    {
      "cell_type": "code",
      "metadata": {
        "id": "Vhq7MpGwdgCB"
      },
      "source": [
        "\r\n",
        "resize_path_train = \"/content/drive/My Drive/kaggle_dataset/colorclassification/colorclassification/resized/\"  \r\n",
        "for idx, value in enumerate(labels):\r\n",
        "    for im in glob.glob(os.path.join(\"/content/drive/My Drive/kaggle_dataset/colorclassification/colorclassification/ColorClassification\",value ,'*')):\r\n",
        "      img  = cv2.imread(im)\r\n",
        "      width = 300\r\n",
        "      height = 300\r\n",
        "      dim = (width, height)\r\n",
        "      # resize image\r\n",
        "      resized = cv2.resize(img, dim, interpolation=cv2.INTER_AREA)\r\n",
        "      cv2.imwrite(os.path.join(resize_path_train, value, im.split(\"/\")[-1]), resized)\r\n",
        "      print(os.path.join(resize_path_train, value, im.split(\"/\")[-1]))"
      ],
      "execution_count": null,
      "outputs": []
    },
    {
      "cell_type": "code",
      "metadata": {
        "id": "Dk_YXJ5QWuxn"
      },
      "source": [
        "# Convolutional Neural Network\r\n",
        "\r\n",
        "# Importing the libraries\r\n",
        "import tensorflow as tf\r\n",
        "from tensorflow.keras.preprocessing.image import ImageDataGenerator"
      ],
      "execution_count": 28,
      "outputs": []
    },
    {
      "cell_type": "code",
      "metadata": {
        "colab": {
          "base_uri": "https://localhost:8080/"
        },
        "id": "2GcdLbjiWu03",
        "outputId": "859520c0-7706-408c-d0e7-caf36ac172cd"
      },
      "source": [
        "# Part 1 - Data Preprocessing\r\n",
        "\r\n",
        "# Preprocessing the Training set\r\n",
        "train_datagen = ImageDataGenerator(rescale = 1./255,\r\n",
        "                                   zoom_range = 0.2,\r\n",
        "                                   validation_split=0.2,\r\n",
        "                                   horizontal_flip = True,\r\n",
        "                                   \r\n",
        "                                   )\r\n",
        "\r\n",
        "training_set = train_datagen.flow_from_directory('/content/drive/My Drive/kaggle_dataset/colorclassification/colorclassification/ColorClassification/',\r\n",
        "                                                 target_size = (224,224),\r\n",
        "                                                 batch_size =1,\r\n",
        "                                                 class_mode = 'categorical',\r\n",
        "                                                 subset=\"training\")\r\n",
        "\r\n",
        "\r\n",
        "test_set = train_datagen.flow_from_directory('/content/drive/My Drive/kaggle_dataset/colorclassification/colorclassification/ColorClassification/',\r\n",
        "                                            target_size = (224,224),\r\n",
        "                                            batch_size = 2,\r\n",
        "                                            class_mode = 'categorical',\r\n",
        "                                            subset=\"validation\")"
      ],
      "execution_count": 78,
      "outputs": [
        {
          "output_type": "stream",
          "text": [
            "Found 266 images belonging to 19 classes.\n",
            "Found 63 images belonging to 19 classes.\n"
          ],
          "name": "stdout"
        }
      ]
    },
    {
      "cell_type": "code",
      "metadata": {
        "id": "DVRJngUqWu3-"
      },
      "source": [
        "# Part 2 - Building the CNN\r\n",
        "\r\n",
        "# Initialising the CNN\r\n",
        "cnn = tf.keras.models.Sequential()\r\n",
        "\r\n",
        "# Step 1 - Convolution\r\n",
        "cnn.add(tf.keras.layers.Conv2D(filters=64,padding=\"same\",kernel_size=3, activation='relu', input_shape=[224,224, 3]))\r\n",
        "\r\n",
        "# Step 2 - Pooling\r\n",
        "cnn.add(tf.keras.layers.MaxPool2D(pool_size=2, strides=2))\r\n",
        "\r\n",
        "# Adding a second convolutional layer\r\n",
        "\r\n",
        "\r\n",
        "# Adding a third convolutional layer\r\n",
        "cnn.add(tf.keras.layers.Conv2D(filters=32,padding='same',kernel_size=3, activation='relu'))\r\n",
        "cnn.add(tf.keras.layers.MaxPool2D(pool_size=2, strides=2))\r\n",
        "\r\n",
        "\r\n",
        "# Step 3 - Flattening\r\n",
        "cnn.add(tf.keras.layers.Flatten())\r\n",
        "\r\n",
        "cnn.add(tf.keras.layers.Dense(units=128, activation='relu'))\r\n",
        "\r\n",
        "# Step 5 - Output Layer\r\n",
        "cnn.add(tf.keras.layers.Dense(units=19, activation='softmax'))"
      ],
      "execution_count": 84,
      "outputs": []
    },
    {
      "cell_type": "code",
      "metadata": {
        "id": "pamEGGddWu7U"
      },
      "source": [
        "# Part 3 - Training the CNN\r\n",
        "\r\n",
        "# Compiling the CNN\r\n",
        "cnn.compile(optimizer = 'adam', loss = 'categorical_crossentropy', metrics = ['accuracy'])"
      ],
      "execution_count": 85,
      "outputs": []
    },
    {
      "cell_type": "code",
      "metadata": {
        "colab": {
          "base_uri": "https://localhost:8080/"
        },
        "id": "pfolgKbrWu-f",
        "outputId": "437e4b01-ad1a-4cde-928e-c73619b141a4"
      },
      "source": [
        "cnn.summary()"
      ],
      "execution_count": 86,
      "outputs": [
        {
          "output_type": "stream",
          "text": [
            "Model: \"sequential_10\"\n",
            "_________________________________________________________________\n",
            "Layer (type)                 Output Shape              Param #   \n",
            "=================================================================\n",
            "conv2d_26 (Conv2D)           (None, 224, 224, 64)      1792      \n",
            "_________________________________________________________________\n",
            "max_pooling2d_26 (MaxPooling (None, 112, 112, 64)      0         \n",
            "_________________________________________________________________\n",
            "conv2d_27 (Conv2D)           (None, 112, 112, 32)      18464     \n",
            "_________________________________________________________________\n",
            "max_pooling2d_27 (MaxPooling (None, 56, 56, 32)        0         \n",
            "_________________________________________________________________\n",
            "flatten_10 (Flatten)         (None, 100352)            0         \n",
            "_________________________________________________________________\n",
            "dense_22 (Dense)             (None, 128)               12845184  \n",
            "_________________________________________________________________\n",
            "dense_23 (Dense)             (None, 19)                2451      \n",
            "=================================================================\n",
            "Total params: 12,867,891\n",
            "Trainable params: 12,867,891\n",
            "Non-trainable params: 0\n",
            "_________________________________________________________________\n"
          ],
          "name": "stdout"
        }
      ]
    },
    {
      "cell_type": "code",
      "metadata": {
        "colab": {
          "base_uri": "https://localhost:8080/"
        },
        "id": "THYAJGtlWvAK",
        "outputId": "50c7b9f0-7eb9-4a92-fb5e-78c4a02303b1"
      },
      "source": [
        "history=cnn.fit_generator(\r\n",
        "    training_set,\r\n",
        "    epochs = 100,\r\n",
        "    validation_data = test_set,\r\n",
        ")"
      ],
      "execution_count": 88,
      "outputs": [
        {
          "output_type": "stream",
          "text": [
            "Epoch 1/100\n",
            "  5/266 [..............................] - ETA: 3s - loss: 1.2170 - accuracy: 0.4000    "
          ],
          "name": "stdout"
        },
        {
          "output_type": "stream",
          "text": [
            "/usr/local/lib/python3.6/dist-packages/tensorflow/python/keras/engine/training.py:1844: UserWarning: `Model.fit_generator` is deprecated and will be removed in a future version. Please use `Model.fit`, which supports generators.\n",
            "  warnings.warn('`Model.fit_generator` is deprecated and '\n"
          ],
          "name": "stderr"
        },
        {
          "output_type": "stream",
          "text": [
            "266/266 [==============================] - 8s 29ms/step - loss: 0.9841 - accuracy: 0.6617 - val_loss: 3.6245 - val_accuracy: 0.2063\n",
            "Epoch 2/100\n",
            "266/266 [==============================] - 7s 28ms/step - loss: 0.8963 - accuracy: 0.6692 - val_loss: 3.6677 - val_accuracy: 0.1905\n",
            "Epoch 3/100\n",
            "266/266 [==============================] - 7s 28ms/step - loss: 0.8059 - accuracy: 0.6955 - val_loss: 3.4977 - val_accuracy: 0.2540\n",
            "Epoch 4/100\n",
            "266/266 [==============================] - 8s 28ms/step - loss: 1.0274 - accuracy: 0.6805 - val_loss: 3.0572 - val_accuracy: 0.2063\n",
            "Epoch 5/100\n",
            "266/266 [==============================] - 8s 28ms/step - loss: 0.7467 - accuracy: 0.7143 - val_loss: 3.6579 - val_accuracy: 0.2381\n",
            "Epoch 6/100\n",
            "266/266 [==============================] - 7s 28ms/step - loss: 0.7942 - accuracy: 0.7143 - val_loss: 3.9445 - val_accuracy: 0.2222\n",
            "Epoch 7/100\n",
            "266/266 [==============================] - 7s 28ms/step - loss: 0.7506 - accuracy: 0.7331 - val_loss: 3.7260 - val_accuracy: 0.2063\n",
            "Epoch 8/100\n",
            "266/266 [==============================] - 7s 28ms/step - loss: 0.7532 - accuracy: 0.7030 - val_loss: 5.4288 - val_accuracy: 0.1905\n",
            "Epoch 9/100\n",
            "266/266 [==============================] - 8s 28ms/step - loss: 0.6853 - accuracy: 0.7331 - val_loss: 3.9052 - val_accuracy: 0.2698\n",
            "Epoch 10/100\n",
            "266/266 [==============================] - 7s 28ms/step - loss: 0.6969 - accuracy: 0.7481 - val_loss: 4.1530 - val_accuracy: 0.2063\n",
            "Epoch 11/100\n",
            "266/266 [==============================] - 8s 28ms/step - loss: 0.6418 - accuracy: 0.7594 - val_loss: 3.7539 - val_accuracy: 0.2063\n",
            "Epoch 12/100\n",
            "266/266 [==============================] - 7s 28ms/step - loss: 0.7369 - accuracy: 0.7256 - val_loss: 4.6746 - val_accuracy: 0.1746\n",
            "Epoch 13/100\n",
            "266/266 [==============================] - 7s 28ms/step - loss: 0.7109 - accuracy: 0.7218 - val_loss: 4.6725 - val_accuracy: 0.2381\n",
            "Epoch 14/100\n",
            "266/266 [==============================] - 8s 28ms/step - loss: 0.7738 - accuracy: 0.7180 - val_loss: 4.4081 - val_accuracy: 0.1587\n",
            "Epoch 15/100\n",
            "266/266 [==============================] - 7s 28ms/step - loss: 0.7310 - accuracy: 0.7256 - val_loss: 4.4554 - val_accuracy: 0.2063\n",
            "Epoch 16/100\n",
            "266/266 [==============================] - 7s 28ms/step - loss: 0.7273 - accuracy: 0.7218 - val_loss: 4.8071 - val_accuracy: 0.2063\n",
            "Epoch 17/100\n",
            "266/266 [==============================] - 7s 28ms/step - loss: 0.6992 - accuracy: 0.7368 - val_loss: 3.8373 - val_accuracy: 0.2222\n",
            "Epoch 18/100\n",
            "266/266 [==============================] - 8s 28ms/step - loss: 0.7099 - accuracy: 0.7444 - val_loss: 4.2793 - val_accuracy: 0.2063\n",
            "Epoch 19/100\n",
            "266/266 [==============================] - 7s 28ms/step - loss: 0.8645 - accuracy: 0.7481 - val_loss: 4.0849 - val_accuracy: 0.2063\n",
            "Epoch 20/100\n",
            "266/266 [==============================] - 7s 28ms/step - loss: 0.8002 - accuracy: 0.7444 - val_loss: 3.4664 - val_accuracy: 0.2222\n",
            "Epoch 21/100\n",
            "266/266 [==============================] - 8s 29ms/step - loss: 0.6302 - accuracy: 0.7857 - val_loss: 4.3854 - val_accuracy: 0.1905\n",
            "Epoch 22/100\n",
            "266/266 [==============================] - 7s 28ms/step - loss: 0.7411 - accuracy: 0.7256 - val_loss: 4.1919 - val_accuracy: 0.2698\n",
            "Epoch 23/100\n",
            "266/266 [==============================] - 7s 28ms/step - loss: 0.5112 - accuracy: 0.8008 - val_loss: 4.6841 - val_accuracy: 0.1905\n",
            "Epoch 24/100\n",
            "266/266 [==============================] - 7s 28ms/step - loss: 0.5549 - accuracy: 0.7820 - val_loss: 4.0037 - val_accuracy: 0.1905\n",
            "Epoch 25/100\n",
            "266/266 [==============================] - 7s 28ms/step - loss: 1.1003 - accuracy: 0.7669 - val_loss: 4.9792 - val_accuracy: 0.2381\n",
            "Epoch 26/100\n",
            "266/266 [==============================] - 7s 28ms/step - loss: 0.6512 - accuracy: 0.7519 - val_loss: 4.2388 - val_accuracy: 0.2222\n",
            "Epoch 27/100\n",
            "266/266 [==============================] - 7s 28ms/step - loss: 0.5597 - accuracy: 0.7782 - val_loss: 6.3012 - val_accuracy: 0.1746\n",
            "Epoch 28/100\n",
            "266/266 [==============================] - 8s 29ms/step - loss: 0.5041 - accuracy: 0.8045 - val_loss: 5.3605 - val_accuracy: 0.3016\n",
            "Epoch 29/100\n",
            "266/266 [==============================] - 8s 29ms/step - loss: 0.6340 - accuracy: 0.7669 - val_loss: 4.6419 - val_accuracy: 0.2063\n",
            "Epoch 30/100\n",
            "266/266 [==============================] - 7s 28ms/step - loss: 0.6095 - accuracy: 0.7820 - val_loss: 4.7249 - val_accuracy: 0.2540\n",
            "Epoch 31/100\n",
            "266/266 [==============================] - 7s 28ms/step - loss: 0.6375 - accuracy: 0.7481 - val_loss: 5.2183 - val_accuracy: 0.1746\n",
            "Epoch 32/100\n",
            "266/266 [==============================] - 8s 28ms/step - loss: 0.6530 - accuracy: 0.7331 - val_loss: 5.8855 - val_accuracy: 0.1905\n",
            "Epoch 33/100\n",
            "266/266 [==============================] - 8s 28ms/step - loss: 0.4452 - accuracy: 0.8383 - val_loss: 5.8638 - val_accuracy: 0.1905\n",
            "Epoch 34/100\n",
            "266/266 [==============================] - 7s 28ms/step - loss: 0.5433 - accuracy: 0.7970 - val_loss: 6.2445 - val_accuracy: 0.1746\n",
            "Epoch 35/100\n",
            "266/266 [==============================] - 7s 28ms/step - loss: 0.5874 - accuracy: 0.7782 - val_loss: 4.9730 - val_accuracy: 0.2540\n",
            "Epoch 36/100\n",
            "266/266 [==============================] - 7s 28ms/step - loss: 0.5399 - accuracy: 0.7820 - val_loss: 4.5890 - val_accuracy: 0.2857\n",
            "Epoch 37/100\n",
            "266/266 [==============================] - 7s 28ms/step - loss: 0.6293 - accuracy: 0.7707 - val_loss: 4.7212 - val_accuracy: 0.2222\n",
            "Epoch 38/100\n",
            "266/266 [==============================] - 7s 28ms/step - loss: 0.5183 - accuracy: 0.7857 - val_loss: 6.3168 - val_accuracy: 0.1905\n",
            "Epoch 39/100\n",
            "266/266 [==============================] - 7s 28ms/step - loss: 0.5113 - accuracy: 0.7932 - val_loss: 5.6046 - val_accuracy: 0.2857\n",
            "Epoch 40/100\n",
            "266/266 [==============================] - 8s 29ms/step - loss: 0.4170 - accuracy: 0.8271 - val_loss: 6.3539 - val_accuracy: 0.1905\n",
            "Epoch 41/100\n",
            "266/266 [==============================] - 8s 29ms/step - loss: 0.4787 - accuracy: 0.8120 - val_loss: 7.9297 - val_accuracy: 0.1905\n",
            "Epoch 42/100\n",
            "266/266 [==============================] - 7s 28ms/step - loss: 0.6841 - accuracy: 0.7669 - val_loss: 5.7761 - val_accuracy: 0.2063\n",
            "Epoch 43/100\n",
            "266/266 [==============================] - 8s 29ms/step - loss: 0.7827 - accuracy: 0.7707 - val_loss: 6.1299 - val_accuracy: 0.2063\n",
            "Epoch 44/100\n",
            "266/266 [==============================] - 7s 28ms/step - loss: 0.8138 - accuracy: 0.7932 - val_loss: 5.6106 - val_accuracy: 0.3016\n",
            "Epoch 45/100\n",
            "266/266 [==============================] - 7s 28ms/step - loss: 0.5218 - accuracy: 0.7895 - val_loss: 6.2809 - val_accuracy: 0.1746\n",
            "Epoch 46/100\n",
            "266/266 [==============================] - 7s 28ms/step - loss: 0.5346 - accuracy: 0.7857 - val_loss: 5.4248 - val_accuracy: 0.2063\n",
            "Epoch 47/100\n",
            "266/266 [==============================] - 7s 28ms/step - loss: 0.7628 - accuracy: 0.7406 - val_loss: 6.4562 - val_accuracy: 0.1429\n",
            "Epoch 48/100\n",
            "266/266 [==============================] - 7s 28ms/step - loss: 0.5216 - accuracy: 0.7932 - val_loss: 6.2251 - val_accuracy: 0.2063\n",
            "Epoch 49/100\n",
            "266/266 [==============================] - 7s 28ms/step - loss: 0.4182 - accuracy: 0.8045 - val_loss: 5.3510 - val_accuracy: 0.2222\n",
            "Epoch 50/100\n",
            "266/266 [==============================] - 8s 28ms/step - loss: 0.3884 - accuracy: 0.8271 - val_loss: 6.8781 - val_accuracy: 0.2698\n",
            "Epoch 51/100\n",
            "266/266 [==============================] - 7s 28ms/step - loss: 0.5032 - accuracy: 0.8120 - val_loss: 6.7860 - val_accuracy: 0.1905\n",
            "Epoch 52/100\n",
            "266/266 [==============================] - 7s 28ms/step - loss: 0.4974 - accuracy: 0.8158 - val_loss: 6.0728 - val_accuracy: 0.2063\n",
            "Epoch 53/100\n",
            "266/266 [==============================] - 7s 28ms/step - loss: 0.5970 - accuracy: 0.7895 - val_loss: 6.9372 - val_accuracy: 0.1429\n",
            "Epoch 54/100\n",
            "266/266 [==============================] - 8s 28ms/step - loss: 0.8223 - accuracy: 0.7820 - val_loss: 5.7372 - val_accuracy: 0.1905\n",
            "Epoch 55/100\n",
            "266/266 [==============================] - 8s 28ms/step - loss: 0.4487 - accuracy: 0.7970 - val_loss: 5.5288 - val_accuracy: 0.1746\n",
            "Epoch 56/100\n",
            "266/266 [==============================] - 7s 28ms/step - loss: 0.4406 - accuracy: 0.8158 - val_loss: 6.1545 - val_accuracy: 0.1746\n",
            "Epoch 57/100\n",
            "266/266 [==============================] - 7s 28ms/step - loss: 0.4861 - accuracy: 0.8195 - val_loss: 9.8624 - val_accuracy: 0.2540\n",
            "Epoch 58/100\n",
            "266/266 [==============================] - 7s 28ms/step - loss: 0.5150 - accuracy: 0.7970 - val_loss: 7.1887 - val_accuracy: 0.2540\n",
            "Epoch 59/100\n",
            "266/266 [==============================] - 7s 28ms/step - loss: 0.4597 - accuracy: 0.8195 - val_loss: 7.8655 - val_accuracy: 0.2540\n",
            "Epoch 60/100\n",
            "266/266 [==============================] - 7s 28ms/step - loss: 0.5856 - accuracy: 0.7857 - val_loss: 6.9390 - val_accuracy: 0.2540\n",
            "Epoch 61/100\n",
            "266/266 [==============================] - 8s 28ms/step - loss: 0.5157 - accuracy: 0.8083 - val_loss: 5.3934 - val_accuracy: 0.2063\n",
            "Epoch 62/100\n",
            "266/266 [==============================] - 8s 28ms/step - loss: 0.4726 - accuracy: 0.7970 - val_loss: 6.3888 - val_accuracy: 0.1905\n",
            "Epoch 63/100\n",
            "266/266 [==============================] - 7s 28ms/step - loss: 0.4351 - accuracy: 0.8195 - val_loss: 5.9366 - val_accuracy: 0.2381\n",
            "Epoch 64/100\n",
            "266/266 [==============================] - 7s 28ms/step - loss: 0.4154 - accuracy: 0.8346 - val_loss: 5.5308 - val_accuracy: 0.2381\n",
            "Epoch 65/100\n",
            "266/266 [==============================] - 8s 28ms/step - loss: 0.4619 - accuracy: 0.7970 - val_loss: 6.8375 - val_accuracy: 0.2063\n",
            "Epoch 66/100\n",
            "266/266 [==============================] - 7s 28ms/step - loss: 0.4761 - accuracy: 0.8045 - val_loss: 7.6826 - val_accuracy: 0.1905\n",
            "Epoch 67/100\n",
            "266/266 [==============================] - 7s 28ms/step - loss: 0.5126 - accuracy: 0.8233 - val_loss: 6.0401 - val_accuracy: 0.1905\n",
            "Epoch 68/100\n",
            "266/266 [==============================] - 7s 28ms/step - loss: 0.4329 - accuracy: 0.8271 - val_loss: 5.8851 - val_accuracy: 0.3175\n",
            "Epoch 69/100\n",
            "266/266 [==============================] - 7s 28ms/step - loss: 0.9769 - accuracy: 0.7782 - val_loss: 7.7072 - val_accuracy: 0.2222\n",
            "Epoch 70/100\n",
            "266/266 [==============================] - 8s 29ms/step - loss: 0.4972 - accuracy: 0.7895 - val_loss: 7.2712 - val_accuracy: 0.1905\n",
            "Epoch 71/100\n",
            "266/266 [==============================] - 8s 29ms/step - loss: 0.5200 - accuracy: 0.8008 - val_loss: 6.1729 - val_accuracy: 0.1270\n",
            "Epoch 72/100\n",
            "266/266 [==============================] - 7s 28ms/step - loss: 0.4655 - accuracy: 0.8008 - val_loss: 7.6317 - val_accuracy: 0.1746\n",
            "Epoch 73/100\n",
            "266/266 [==============================] - 7s 28ms/step - loss: 0.4541 - accuracy: 0.8233 - val_loss: 7.8745 - val_accuracy: 0.2063\n",
            "Epoch 74/100\n",
            "266/266 [==============================] - 7s 28ms/step - loss: 0.4817 - accuracy: 0.8045 - val_loss: 6.0873 - val_accuracy: 0.1905\n",
            "Epoch 75/100\n",
            "266/266 [==============================] - 8s 28ms/step - loss: 0.3668 - accuracy: 0.8421 - val_loss: 6.6912 - val_accuracy: 0.2381\n",
            "Epoch 76/100\n",
            "266/266 [==============================] - 8s 28ms/step - loss: 0.4597 - accuracy: 0.8496 - val_loss: 7.0451 - val_accuracy: 0.2222\n",
            "Epoch 77/100\n",
            "266/266 [==============================] - 7s 28ms/step - loss: 0.3779 - accuracy: 0.8308 - val_loss: 8.0655 - val_accuracy: 0.1270\n",
            "Epoch 78/100\n",
            "266/266 [==============================] - 7s 28ms/step - loss: 0.4174 - accuracy: 0.8195 - val_loss: 6.7838 - val_accuracy: 0.1905\n",
            "Epoch 79/100\n",
            "266/266 [==============================] - 8s 28ms/step - loss: 0.4824 - accuracy: 0.8083 - val_loss: 7.3808 - val_accuracy: 0.1587\n",
            "Epoch 80/100\n",
            "266/266 [==============================] - 7s 28ms/step - loss: 0.4953 - accuracy: 0.8083 - val_loss: 6.6951 - val_accuracy: 0.2063\n",
            "Epoch 81/100\n",
            "266/266 [==============================] - 7s 28ms/step - loss: 0.4300 - accuracy: 0.8346 - val_loss: 6.1472 - val_accuracy: 0.2857\n",
            "Epoch 82/100\n",
            "266/266 [==============================] - 7s 28ms/step - loss: 0.5557 - accuracy: 0.7970 - val_loss: 7.1419 - val_accuracy: 0.1905\n",
            "Epoch 83/100\n",
            "266/266 [==============================] - 7s 28ms/step - loss: 0.4644 - accuracy: 0.8308 - val_loss: 6.8411 - val_accuracy: 0.2063\n",
            "Epoch 84/100\n",
            "266/266 [==============================] - 7s 28ms/step - loss: 0.3829 - accuracy: 0.8346 - val_loss: 6.9769 - val_accuracy: 0.2698\n",
            "Epoch 85/100\n",
            "266/266 [==============================] - 7s 28ms/step - loss: 0.4148 - accuracy: 0.8195 - val_loss: 7.8801 - val_accuracy: 0.2381\n",
            "Epoch 86/100\n",
            "266/266 [==============================] - 8s 28ms/step - loss: 0.3798 - accuracy: 0.8346 - val_loss: 8.5198 - val_accuracy: 0.2540\n",
            "Epoch 87/100\n",
            "266/266 [==============================] - 7s 28ms/step - loss: 0.4582 - accuracy: 0.8120 - val_loss: 8.8711 - val_accuracy: 0.2063\n",
            "Epoch 88/100\n",
            "266/266 [==============================] - 7s 28ms/step - loss: 0.4411 - accuracy: 0.8195 - val_loss: 8.0870 - val_accuracy: 0.2063\n",
            "Epoch 89/100\n",
            "266/266 [==============================] - 8s 28ms/step - loss: 0.3966 - accuracy: 0.8496 - val_loss: 8.2109 - val_accuracy: 0.1746\n",
            "Epoch 90/100\n",
            "266/266 [==============================] - 7s 28ms/step - loss: 0.3461 - accuracy: 0.8647 - val_loss: 8.2194 - val_accuracy: 0.1905\n",
            "Epoch 91/100\n",
            "266/266 [==============================] - 8s 29ms/step - loss: 0.3766 - accuracy: 0.8609 - val_loss: 7.8839 - val_accuracy: 0.2381\n",
            "Epoch 92/100\n",
            "266/266 [==============================] - 8s 29ms/step - loss: 0.4568 - accuracy: 0.8120 - val_loss: 7.3039 - val_accuracy: 0.2381\n",
            "Epoch 93/100\n",
            "266/266 [==============================] - 7s 28ms/step - loss: 0.4223 - accuracy: 0.8308 - val_loss: 7.7988 - val_accuracy: 0.1905\n",
            "Epoch 94/100\n",
            "266/266 [==============================] - 7s 28ms/step - loss: 0.4409 - accuracy: 0.8195 - val_loss: 7.0538 - val_accuracy: 0.1905\n",
            "Epoch 95/100\n",
            "266/266 [==============================] - 7s 28ms/step - loss: 0.5697 - accuracy: 0.8308 - val_loss: 7.6511 - val_accuracy: 0.2540\n",
            "Epoch 96/100\n",
            "266/266 [==============================] - 7s 28ms/step - loss: 0.4193 - accuracy: 0.8383 - val_loss: 6.4693 - val_accuracy: 0.2698\n",
            "Epoch 97/100\n",
            "266/266 [==============================] - 8s 29ms/step - loss: 0.3732 - accuracy: 0.8308 - val_loss: 6.6136 - val_accuracy: 0.1905\n",
            "Epoch 98/100\n",
            "266/266 [==============================] - 7s 28ms/step - loss: 0.3402 - accuracy: 0.8496 - val_loss: 6.5492 - val_accuracy: 0.2698\n",
            "Epoch 99/100\n",
            "266/266 [==============================] - 7s 28ms/step - loss: 0.3542 - accuracy: 0.8459 - val_loss: 7.1420 - val_accuracy: 0.2540\n",
            "Epoch 100/100\n",
            "266/266 [==============================] - 7s 28ms/step - loss: 0.3798 - accuracy: 0.8308 - val_loss: 5.9135 - val_accuracy: 0.2698\n"
          ],
          "name": "stdout"
        }
      ]
    },
    {
      "cell_type": "code",
      "metadata": {
        "id": "nG12BtMB3llw"
      },
      "source": [
        "cnn.save(\"/content/drive/My Drive/kaggle_dataset/colorclassification/colorclassification/ColorClassification/color_classification.h5\")"
      ],
      "execution_count": 89,
      "outputs": []
    },
    {
      "cell_type": "code",
      "metadata": {
        "id": "wIMCAQD934DR"
      },
      "source": [
        "from keras.preprocessing.image import load_img\r\n",
        "from keras.preprocessing.image import img_to_array\r\n",
        "# load and prepare the image\r\n",
        "def load_image(filename):\r\n",
        "  \r\n",
        "\t# load the image\r\n",
        "\timg = load_img(filename, target_size=(224, 224))\r\n",
        "\t# convert to array\r\n",
        "\timg = img_to_array(img)\r\n",
        "\t# reshape into a single sample with 3 channels\r\n",
        "\timg = img.reshape(1, 224, 224, 3)\r\n",
        "\t# center pixel data\r\n",
        "\timg = img.astype('float32')\r\n",
        "\timg = img - [123.68, 116.779, 103.939]\r\n",
        "\treturn img\r\n",
        " \r\n"
      ],
      "execution_count": 96,
      "outputs": []
    },
    {
      "cell_type": "code",
      "metadata": {
        "colab": {
          "base_uri": "https://localhost:8080/"
        },
        "id": "6yzklKW33-Ko",
        "outputId": "b16afa96-5b77-45a9-a30c-cc73a81a8000"
      },
      "source": [
        "from keras import models    \r\n",
        "# load an image and predict the class\r\n",
        "def run_example():\r\n",
        "\t# load the image\r\n",
        "\timg = load_image('/content/drive/My Drive/kaggle_dataset/colorclassification/colorclassification/test/testimg/96.jpg')\r\n",
        "\t# load model\r\n",
        "\tmodel = models.load_model(\"/content/drive/My Drive/kaggle_dataset/colorclassification/colorclassification/ColorClassification/color_classification.h5\")\r\n",
        "\t# predict the class\r\n",
        "\tresult = model.predict(img)\r\n",
        "\tprint(result[0])\r\n",
        "  \r\n",
        " \r\n",
        "# entry point, run the example\r\n",
        "run_example()"
      ],
      "execution_count": 97,
      "outputs": [
        {
          "output_type": "stream",
          "text": [
            "[0.0000000e+00 0.0000000e+00 0.0000000e+00 0.0000000e+00 0.0000000e+00\n",
            " 0.0000000e+00 0.0000000e+00 0.0000000e+00 0.0000000e+00 0.0000000e+00\n",
            " 0.0000000e+00 0.0000000e+00 0.0000000e+00 0.0000000e+00 0.0000000e+00\n",
            " 0.0000000e+00 9.2881197e-07 0.0000000e+00 9.9999905e-01]\n"
          ],
          "name": "stdout"
        }
      ]
    }
  ]
}