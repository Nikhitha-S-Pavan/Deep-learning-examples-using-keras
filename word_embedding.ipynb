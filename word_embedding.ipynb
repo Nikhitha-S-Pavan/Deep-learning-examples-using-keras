{
  "nbformat": 4,
  "nbformat_minor": 0,
  "metadata": {
    "colab": {
      "name": "word_embedding.ipynb",
      "private_outputs": true,
      "provenance": [],
      "authorship_tag": "ABX9TyNR+AzwGRvnLYXNWwCi2HIr",
      "include_colab_link": true
    },
    "kernelspec": {
      "name": "python3",
      "display_name": "Python 3"
    }
  },
  "cells": [
    {
      "cell_type": "markdown",
      "metadata": {
        "id": "view-in-github",
        "colab_type": "text"
      },
      "source": [
        "<a href=\"https://colab.research.google.com/github/Nikhitha-S-Pavan/Deep-learning-examples-using-keras/blob/main/word_embedding.ipynb\" target=\"_parent\"><img src=\"https://colab.research.google.com/assets/colab-badge.svg\" alt=\"Open In Colab\"/></a>"
      ]
    },
    {
      "cell_type": "code",
      "metadata": {
        "id": "z03CBGxQIT7X"
      },
      "source": [
        "from tensorflow.keras.preprocessing.text import one_hot"
      ],
      "execution_count": null,
      "outputs": []
    },
    {
      "cell_type": "code",
      "metadata": {
        "id": "odCVAzYmIWGx"
      },
      "source": [
        "### sentences\r\n",
        "sent=[  'the glass of milk',\r\n",
        "     'the glass of juice',\r\n",
        "     'the cup of tea',\r\n",
        "    'I am a good boy',\r\n",
        "     'I am a good developer',\r\n",
        "     'understand the meaning of words',\r\n",
        "     'your videos are good',]"
      ],
      "execution_count": null,
      "outputs": []
    },
    {
      "cell_type": "code",
      "metadata": {
        "id": "zCtnh6_dIWN1"
      },
      "source": [
        "### Vocabulary size\r\n",
        "voc_size=10000"
      ],
      "execution_count": null,
      "outputs": []
    },
    {
      "cell_type": "code",
      "metadata": {
        "id": "8ymZ--pDIWQo"
      },
      "source": [
        "onehot_repr=[one_hot(words,voc_size)for words in sent] \r\n",
        "print(onehot_repr)"
      ],
      "execution_count": null,
      "outputs": []
    },
    {
      "cell_type": "code",
      "metadata": {
        "id": "Y7y41v6YIWTb"
      },
      "source": [
        "from tensorflow.keras.layers import Embedding\r\n",
        "from tensorflow.keras.preprocessing.sequence import pad_sequences\r\n",
        "from tensorflow.keras.models import Sequential"
      ],
      "execution_count": null,
      "outputs": []
    },
    {
      "cell_type": "code",
      "metadata": {
        "id": "dA-lf9tcIWWE"
      },
      "source": [
        "\r\n",
        "\r\n",
        "sent_length=8\r\n",
        "embedded_docs=pad_sequences(onehot_repr,padding='pre',maxlen=sent_length)\r\n",
        "print(embedded_docs)\r\n"
      ],
      "execution_count": null,
      "outputs": []
    },
    {
      "cell_type": "code",
      "metadata": {
        "id": "HMXnAPwzIs8i"
      },
      "source": [
        "\r\n",
        "dim=10"
      ],
      "execution_count": null,
      "outputs": []
    },
    {
      "cell_type": "code",
      "metadata": {
        "id": "NrQOqubmItAx"
      },
      "source": [
        "model=Sequential()\r\n",
        "model.add(Embedding(voc_size,10,input_length=sent_length))\r\n",
        "model.compile('adam','mse')"
      ],
      "execution_count": null,
      "outputs": []
    },
    {
      "cell_type": "code",
      "metadata": {
        "id": "a9urvnbOItCO"
      },
      "source": [
        "print(model.predict(embedded_docs))"
      ],
      "execution_count": null,
      "outputs": []
    },
    {
      "cell_type": "code",
      "metadata": {
        "id": "gi0OseltJJUw"
      },
      "source": [
        "\r\n",
        "embedded_docs[0]"
      ],
      "execution_count": null,
      "outputs": []
    },
    {
      "cell_type": "code",
      "metadata": {
        "id": "2KoZdi1kItQH"
      },
      "source": [
        "print(model.predict(embedded_docs)[0])"
      ],
      "execution_count": null,
      "outputs": []
    }
  ]
}