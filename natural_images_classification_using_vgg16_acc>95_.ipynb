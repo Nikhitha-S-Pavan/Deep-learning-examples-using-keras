{
  "nbformat": 4,
  "nbformat_minor": 0,
  "metadata": {
    "colab": {
      "name": "natural_images_classification using_vgg16_acc>95%",
      "private_outputs": true,
      "provenance": [],
      "authorship_tag": "ABX9TyOo/vN4OO/rnMcaRsUW2+wb",
      "include_colab_link": true
    },
    "kernelspec": {
      "name": "python3",
      "display_name": "Python 3"
    }
  },
  "cells": [
    {
      "cell_type": "markdown",
      "metadata": {
        "id": "view-in-github",
        "colab_type": "text"
      },
      "source": [
        "<a href=\"https://colab.research.google.com/github/Nikhitha-S-Pavan/Deep-learning-examples-using-keras/blob/main/natural_images_classification_using_vgg16_acc%3E95_.ipynb\" target=\"_parent\"><img src=\"https://colab.research.google.com/assets/colab-badge.svg\" alt=\"Open In Colab\"/></a>"
      ]
    },
    {
      "cell_type": "code",
      "metadata": {
        "id": "WqCMuZvtuJvY"
      },
      "source": [
        "from google.colab import drive\r\n",
        "drive.mount('/content/drive')"
      ],
      "execution_count": null,
      "outputs": []
    },
    {
      "cell_type": "code",
      "metadata": {
        "id": "E4yL7JWRuLLB"
      },
      "source": [
        "# import the libraries as shown below\r\n",
        "\r\n",
        "from tensorflow.keras.layers import Input, Lambda, Dense, Flatten\r\n",
        "from tensorflow.keras.models import Model\r\n",
        "from tensorflow.keras.applications.vgg16 import VGG16\r\n",
        "from tensorflow.keras.applications.vgg16 import preprocess_input\r\n",
        "from tensorflow.keras.preprocessing import image\r\n",
        "from tensorflow.keras.preprocessing.image import ImageDataGenerator,load_img\r\n",
        "from tensorflow.keras.models import Sequential\r\n",
        "import numpy as np\r\n",
        "from glob import glob"
      ],
      "execution_count": null,
      "outputs": []
    },
    {
      "cell_type": "code",
      "metadata": {
        "id": "EJb6iBAquLVY"
      },
      "source": [
        "# Import the Vgg 16 library as shown below and add preprocessing layer to the front of VGG\r\n",
        "# Here we will be using imagenet weights\r\n",
        "IMAGE_SIZE=[128,128]\r\n",
        "vgg16 = VGG16(input_shape=IMAGE_SIZE + [3], weights='imagenet', include_top=False)"
      ],
      "execution_count": null,
      "outputs": []
    },
    {
      "cell_type": "code",
      "metadata": {
        "id": "GnYJM8sSuLXw"
      },
      "source": [
        "# don't train existing weights\r\n",
        "for layer in vgg16.layers:\r\n",
        "    layer.trainable = False"
      ],
      "execution_count": null,
      "outputs": []
    },
    {
      "cell_type": "code",
      "metadata": {
        "id": "-yA2rMuIuLaa"
      },
      "source": [
        "# useful for getting number of output classes\r\n",
        "folders = glob(\"/content/drive/My Drive/kaggle_dataset/natural_images/data/natural_images/*\")\r\n",
        "len(folders)"
      ],
      "execution_count": null,
      "outputs": []
    },
    {
      "cell_type": "code",
      "metadata": {
        "id": "r2NLjkPpuLdB"
      },
      "source": [
        "# our layers - you can add more if you want\r\n",
        "x = Flatten()(vgg16.output)\r\n",
        "\r\n",
        "prediction = Dense(len(folders), activation='softmax')(x)\r\n",
        "\r\n",
        "# create a model object\r\n",
        "model = Model(inputs=vgg16.input, outputs=prediction)\r\n",
        "# view the structure of the model\r\n",
        "model.summary()"
      ],
      "execution_count": null,
      "outputs": []
    },
    {
      "cell_type": "code",
      "metadata": {
        "id": "DGogJnhAuLfH"
      },
      "source": [
        "# tell the model what cost and optimization method to use\r\n",
        "model.compile(\r\n",
        "  loss='categorical_crossentropy',\r\n",
        "  optimizer='adam',\r\n",
        "  metrics=['accuracy']\r\n",
        ")"
      ],
      "execution_count": null,
      "outputs": []
    },
    {
      "cell_type": "code",
      "metadata": {
        "id": "xbR5k8CguLhP"
      },
      "source": [
        "# Preprocessing the Training set\r\n",
        "train_datagen = ImageDataGenerator(rescale = 1./255,\r\n",
        "                                   zoom_range = 0.2,\r\n",
        "                                   validation_split=0.2,\r\n",
        "                                   horizontal_flip = True)\r\n",
        "\r\n",
        "training_set = train_datagen.flow_from_directory('/content/drive/My Drive/kaggle_dataset/natural_images/data/natural_images/',\r\n",
        "                                                 target_size = (128,128),\r\n",
        "                                                 batch_size =64,\r\n",
        "                                                 \r\n",
        "                                                 subset=\"training\")\r\n",
        "\r\n",
        "\r\n",
        "test_set = train_datagen.flow_from_directory('/content/drive/My Drive/kaggle_dataset/natural_images/data/natural_images/',\r\n",
        "                                            target_size = (128,128),\r\n",
        "                                            batch_size = 64,\r\n",
        "                                            \r\n",
        "                                            subset=\"validation\")"
      ],
      "execution_count": null,
      "outputs": []
    },
    {
      "cell_type": "code",
      "metadata": {
        "id": "coxcrc2muLnz"
      },
      "source": [
        "# fit the model\r\n",
        "# Run the cell. It will take some time to execute\r\n",
        "r = model.fit_generator(\r\n",
        "  training_set,\r\n",
        "  validation_data=test_set,\r\n",
        "  epochs=5,\r\n",
        "  steps_per_epoch=len(training_set),\r\n",
        "  validation_steps=len(test_set)\r\n",
        ")"
      ],
      "execution_count": null,
      "outputs": []
    },
    {
      "cell_type": "code",
      "metadata": {
        "id": "jwhW98OkuLqJ"
      },
      "source": [
        "model.save(\"/content/drive/My Drive/kaggle_dataset/natural_images/data/natural_images.h5\")"
      ],
      "execution_count": null,
      "outputs": []
    },
    {
      "cell_type": "code",
      "metadata": {
        "id": "QXpa-9ppuLtS"
      },
      "source": [
        "# predict image class\r\n",
        "from numpy import loadtxt\r\n",
        "from keras.models import load_model\r\n",
        " \r\n",
        "# load model\r\n",
        "model = load_model('/content/drive/My Drive/kaggle_dataset/natural_images/data/natural_images.h5')"
      ],
      "execution_count": null,
      "outputs": []
    },
    {
      "cell_type": "code",
      "metadata": {
        "id": "LrusiJqDup8L"
      },
      "source": [
        "# summarize model.\r\n",
        "model.summary()"
      ],
      "execution_count": null,
      "outputs": []
    },
    {
      "cell_type": "code",
      "metadata": {
        "id": "cunW1Gnsup_s"
      },
      "source": [
        "from keras.preprocessing.image import load_img\r\n",
        "from keras.preprocessing.image import img_to_array\r\n",
        "# load and prepare the image\r\n",
        "def load_image(filename):\r\n",
        "  \r\n",
        "\t# load the image\r\n",
        "\timg = load_img(filename, target_size=(128,128))\r\n",
        "\t# convert to array\r\n",
        "\timg = img_to_array(img)\r\n",
        "\t# reshape into a single sample with 3 channels\r\n",
        "\timg = img.reshape(1, 128,128, 3)\r\n",
        "\t# center pixel data\r\n",
        "\timg = img.astype('float32')\r\n",
        "\timg = img - [123.68, 116.779, 103.939]\r\n",
        "\treturn img\r\n",
        " \r\n"
      ],
      "execution_count": null,
      "outputs": []
    },
    {
      "cell_type": "code",
      "metadata": {
        "id": "pudO8Fsjutfg"
      },
      "source": [
        "# load an image and predict the class\r\n",
        "def run_example():\r\n",
        "\t# load the image\r\n",
        "\timg = load_image('/content/drive/My Drive/kaggle_dataset/natural_images/resized/airplane/airplane_0000.jpg')\r\n",
        "\t# load model\r\n",
        "\tmodel = load_model('/content/drive/My Drive/kaggle_dataset/natural_images/data/natural_images_cnn.h5')\r\n",
        "\t# predict the class\r\n",
        "\tresult = model.predict(img)\r\n",
        "\tprint(result[0])\r\n",
        "  \r\n",
        " \r\n",
        "# entry point, run the example\r\n",
        "run_example()"
      ],
      "execution_count": null,
      "outputs": []
    }
  ]
}