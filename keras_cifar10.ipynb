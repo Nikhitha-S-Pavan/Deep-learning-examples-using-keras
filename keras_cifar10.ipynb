{
  "nbformat": 4,
  "nbformat_minor": 0,
  "metadata": {
    "colab": {
      "name": "Untitled4.ipynb",
      "private_outputs": true,
      "provenance": [],
      "authorship_tag": "ABX9TyOFZ2x4oEuizQ8KCKDfwfdw",
      "include_colab_link": true
    },
    "kernelspec": {
      "name": "python3",
      "display_name": "Python 3"
    },
    "accelerator": "GPU"
  },
  "cells": [
    {
      "cell_type": "markdown",
      "metadata": {
        "id": "view-in-github",
        "colab_type": "text"
      },
      "source": [
        "<a href=\"https://colab.research.google.com/github/Nikhitha-S-Pavan/Deep-learning-examples-using-keras/blob/main/keras_cifar10.ipynb\" target=\"_parent\"><img src=\"https://colab.research.google.com/assets/colab-badge.svg\" alt=\"Open In Colab\"/></a>"
      ]
    },
    {
      "cell_type": "code",
      "metadata": {
        "id": "NqSjIU_QgC8L"
      },
      "source": [
        "import tensorflow as tf\r\n",
        "from tensorflow import keras\r\n",
        "import numpy as np\r\n",
        "from matplotlib import pyplot"
      ],
      "execution_count": null,
      "outputs": []
    },
    {
      "cell_type": "code",
      "metadata": {
        "id": "KcQTbcrygFDf"
      },
      "source": [
        "cifar10=keras.datasets.cifar10"
      ],
      "execution_count": null,
      "outputs": []
    },
    {
      "cell_type": "code",
      "metadata": {
        "id": "eQaFhvOWgV-f"
      },
      "source": [
        "(x_train,y_train), (x_test,y_test) = cifar10.load_data()"
      ],
      "execution_count": null,
      "outputs": []
    },
    {
      "cell_type": "code",
      "metadata": {
        "id": "jEbQuQexgWbB"
      },
      "source": [
        "x_train = x_train.astype('float32')\r\n",
        "x_test = x_test.astype('float32')\r\n",
        "x_train = x_train/255\r\n",
        "x_test = x_test/255"
      ],
      "execution_count": null,
      "outputs": []
    },
    {
      "cell_type": "code",
      "metadata": {
        "id": "kpOqJSclRkpN"
      },
      "source": [
        "# Convert class vectors to binary class matrices.\r\n",
        "y_train = keras.utils.to_categorical(y_train, 10)\r\n",
        "y_test = keras.utils.to_categorical(y_test, 10)\r\n"
      ],
      "execution_count": null,
      "outputs": []
    },
    {
      "cell_type": "code",
      "metadata": {
        "id": "I626gg37gWdv"
      },
      "source": [
        "for i in range(9):\r\n",
        "\t# define subplot\r\n",
        "\tpyplot.subplot(330 + 1 + i)\r\n",
        "\t# plot raw pixel data\r\n",
        "\tpyplot.imshow(x_train[i], cmap=pyplot.get_cmap('gray'))\r\n",
        "\r\n",
        "\r\n",
        "# show the figure\r\n",
        "pyplot.show()"
      ],
      "execution_count": null,
      "outputs": []
    },
    {
      "cell_type": "code",
      "metadata": {
        "id": "LLOpOY2vFADt"
      },
      "source": [
        "x_train.shape"
      ],
      "execution_count": null,
      "outputs": []
    },
    {
      "cell_type": "code",
      "metadata": {
        "id": "lQID0DXKPCxe"
      },
      "source": [
        "!pip install keras-tuner"
      ],
      "execution_count": null,
      "outputs": []
    },
    {
      "cell_type": "code",
      "metadata": {
        "id": "ZAPMn0PGFmWy"
      },
      "source": [
        "from kerastuner import RandomSearch\r\n",
        "from kerastuner.engine.hyperparameters import HyperParameters\r\n",
        "from tensorflow.keras.layers import BatchNormalization, Dropout\r\n",
        "\r\n",
        "\r\n",
        "def build_model(hp):  \r\n",
        "  model = keras.Sequential([\r\n",
        "    keras.layers.Conv2D(\r\n",
        "        filters=hp.Int('conv_1_filter', min_value=32, max_value=128, step=16),\r\n",
        "        kernel_size=hp.Choice('conv_1_kernel', values = [3,5]),\r\n",
        "        activation='relu',\r\n",
        "        input_shape=(32, 32, 3)\r\n",
        "    ),\r\n",
        "\r\n",
        "    #BatchNormalization(),\r\n",
        "    \r\n",
        "\r\n",
        "    keras.layers.Conv2D(\r\n",
        "        filters=hp.Int('conv_2_filter', min_value=32, max_value=64, step=16),\r\n",
        "        kernel_size=hp.Choice('conv_2_kernel', values = [3,5]),\r\n",
        "        activation='relu'\r\n",
        "    ),\r\n",
        "    keras.layers.Conv2D(\r\n",
        "        filters=hp.Int('conv_2_filter', min_value=32, max_value=64, step=16),\r\n",
        "        kernel_size=hp.Choice('conv_2_kernel', values = [3,5]),\r\n",
        "        activation='relu'\r\n",
        "    ),\r\n",
        "    keras.layers.Conv2D(\r\n",
        "        filters=hp.Int('conv_2_filter', min_value=32, max_value=64, step=16),\r\n",
        "        kernel_size=hp.Choice('conv_2_kernel', values = [3,5]),\r\n",
        "        activation='relu'\r\n",
        "    ),\r\n",
        "    keras.layers.Flatten(),\r\n",
        "    keras.layers.Dense(\r\n",
        "        units=hp.Int('dense_1_units', min_value=32, max_value=128, step=16),\r\n",
        "        activation='relu'\r\n",
        "    ),\r\n",
        "    keras.layers.Dense(10, activation='softmax')\r\n",
        "  ])\r\n",
        "  \r\n",
        "  model.compile(optimizer=keras.optimizers.Adam(hp.Choice('learning_rate', values=[1e-2, 1e-3])),\r\n",
        "              loss='categorical_crossentropy',\r\n",
        "              metrics=['accuracy'])\r\n",
        "  model.summary()\r\n",
        "  return model\r\n",
        "\r\n",
        "\r\n",
        "tuner_search=RandomSearch(build_model,\r\n",
        "                          objective='val_accuracy',\r\n",
        "                          max_trials=2,directory='output',project_name=\"Mnist Fashion\")\r\n",
        "\r\n",
        "tuner_search.search(x_train,y_train,epochs=3,validation_split=0.1)\r\n",
        "\r\n",
        "model=tuner_search.get_best_models(num_models=1)[0]\r\n",
        "model.fit(x_train, y_train, epochs=10, validation_split=0.1, initial_epoch=3)"
      ],
      "execution_count": null,
      "outputs": []
    },
    {
      "cell_type": "code",
      "metadata": {
        "id": "LraK4LlvFAGR"
      },
      "source": [
        "\"\"\"from __future__ import print_function\r\n",
        "import keras\r\n",
        "from keras.datasets import cifar10\r\n",
        "from keras.models import Sequential\r\n",
        "from keras.layers import Dense, Dropout, Activation, Flatten\r\n",
        "from keras.layers import Conv2D, Lambda, MaxPooling2D\r\n",
        "from keras import backend as K\r\n",
        "import os\r\n",
        "import tensorflow as tf\r\n",
        "batch_size = 32\r\n",
        "num_classes = 10\r\n",
        "epochs = 100\r\n",
        "num_predictions = 20\r\n",
        "save_dir = '/tmp/saved_models'\r\n",
        "model_name = 'keras_cifar10_trained_model.h5'\r\n",
        "\r\n",
        "# The data, split between train and test sets:\r\n",
        "(x_train, y_train), (x_test, y_test) = cifar10.load_data()\r\n",
        "print('x_train shape:', x_train.shape)\r\n",
        "print(x_train.shape[0], 'train samples')\r\n",
        "print(x_test.shape[0], 'test samples')\r\n",
        "\r\n",
        "# Convert class vectors to binary class matrices.\r\n",
        "y_train = keras.utils.to_categorical(y_train, num_classes)\r\n",
        "y_test = keras.utils.to_categorical(y_test, num_classes)\r\n",
        "\r\n",
        "model = Sequential()\r\n",
        "\r\n",
        "model.add(Conv2D(32, (3, 3), padding='same'))\r\n",
        "model.add(Activation('relu'))\r\n",
        "model.add(Conv2D(32, (3, 3)))\r\n",
        "model.add(Activation('relu'))\r\n",
        "model.add(MaxPooling2D(pool_size=(2, 2)))\r\n",
        "model.add(Dropout(0.25))\r\n",
        "\r\n",
        "model.add(Conv2D(64, (3, 3), padding='same'))\r\n",
        "model.add(Activation('relu'))\r\n",
        "model.add(Conv2D(64, (3, 3)))\r\n",
        "model.add(Activation('relu'))\r\n",
        "model.add(MaxPooling2D(pool_size=(2, 2)))\r\n",
        "model.add(Dropout(0.25))\r\n",
        "\r\n",
        "model.add(Flatten())\r\n",
        "model.add(Dense(512))\r\n",
        "model.add(Activation('relu'))\r\n",
        "model.add(Dropout(0.5))\r\n",
        "model.add(Dense(num_classes))\r\n",
        "model.add(Activation('softmax'))\r\n",
        "\r\n",
        "# initiate RMSprop optimizer\r\n",
        "opt = keras.optimizers.RMSprop(lr=0.0001, decay=1e-6)\r\n",
        "\r\n",
        "# Let's train the model using RMSprop\r\n",
        "model.compile(loss='categorical_crossentropy',\r\n",
        "              optimizer=opt,\r\n",
        "              metrics=['accuracy'])\r\n",
        "\r\n",
        "x_train = x_train.astype('float32')\r\n",
        "x_test = x_test.astype('float32')\r\n",
        "x_train /= 255\r\n",
        "x_test /= 255\r\n",
        "\r\n",
        "model.fit(x_train, y_train,\r\n",
        "          batch_size=batch_size,\r\n",
        "          epochs=epochs,\r\n",
        "          validation_data=(x_test, y_test),\r\n",
        "          shuffle=True)\r\n",
        "\r\n",
        "# Save model and weights\r\n",
        "if not os.path.isdir(save_dir):\r\n",
        "    os.makedirs(save_dir)\r\n",
        "model_path = os.path.join(save_dir, model_name)\r\n",
        "model.save(model_path)\r\n",
        "print('Saved trained model at %s ' % model_path)\r\n",
        "\r\n",
        "# Score trained model.\r\n",
        "scores = model.evaluate(x_test, y_test, verbose=1)\r\n",
        "print('Test loss:', scores[0])\r\n",
        "print('Test accuracy:', scores[1])\"\"\""
      ],
      "execution_count": null,
      "outputs": []
    }
  ]
}