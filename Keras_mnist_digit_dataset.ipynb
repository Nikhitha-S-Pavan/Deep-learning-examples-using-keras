{
  "nbformat": 4,
  "nbformat_minor": 0,
  "metadata": {
    "colab": {
      "name": "Keras_mnist_digit_dataset.ipynb",
      "private_outputs": true,
      "provenance": [],
      "collapsed_sections": [],
      "authorship_tag": "ABX9TyOr78opxJhxqZh6AUxyOdL5",
      "include_colab_link": true
    },
    "kernelspec": {
      "name": "python3",
      "display_name": "Python 3"
    },
    "accelerator": "GPU"
  },
  "cells": [
    {
      "cell_type": "markdown",
      "metadata": {
        "id": "view-in-github",
        "colab_type": "text"
      },
      "source": [
        "<a href=\"https://colab.research.google.com/github/Nikhitha-S-Pavan/Deep-learning-examples-using-keras/blob/main/Keras_mnist_digit_dataset.ipynb\" target=\"_parent\"><img src=\"https://colab.research.google.com/assets/colab-badge.svg\" alt=\"Open In Colab\"/></a>"
      ]
    },
    {
      "cell_type": "code",
      "metadata": {
        "id": "QdCDnEMKZoVZ"
      },
      "source": [
        "!pip install keras-tuner"
      ],
      "execution_count": null,
      "outputs": []
    },
    {
      "cell_type": "code",
      "metadata": {
        "id": "d2oGo-eZZ1A9"
      },
      "source": [
        "import tensorflow as tf\r\n",
        "from tensorflow import keras\r\n",
        "import numpy as np\r\n",
        "from matplotlib import pyplot"
      ],
      "execution_count": null,
      "outputs": []
    },
    {
      "cell_type": "code",
      "metadata": {
        "id": "fyWjgNf7Z4w1"
      },
      "source": [
        "mnist=keras.datasets.mnist"
      ],
      "execution_count": null,
      "outputs": []
    },
    {
      "cell_type": "code",
      "metadata": {
        "id": "fb5SJJCJaLH4"
      },
      "source": [
        "(train_x, train_y), (test_x, test_y) = mnist.load_data()"
      ],
      "execution_count": null,
      "outputs": []
    },
    {
      "cell_type": "code",
      "metadata": {
        "id": "9PiL04CibG8G"
      },
      "source": [
        "for i in range(9):\r\n",
        "\t# define subplot\r\n",
        "\tpyplot.subplot(330 + 1 + i)\r\n",
        "\t# plot raw pixel data\r\n",
        "\tpyplot.imshow(train_x[i], cmap=pyplot.get_cmap('gray'))\r\n",
        "# show the figure\r\n",
        "pyplot.show()"
      ],
      "execution_count": null,
      "outputs": []
    },
    {
      "cell_type": "code",
      "metadata": {
        "id": "LWtdYTPWa00m"
      },
      "source": [
        "train_images=train_x.reshape(len(train_x),28,28,1)\r\n",
        "test_images=test_x.reshape(len(test_x),28,28,1)"
      ],
      "execution_count": null,
      "outputs": []
    },
    {
      "cell_type": "code",
      "metadata": {
        "id": "c-bbEnt3o1HN"
      },
      "source": [
        "train_x.shape"
      ],
      "execution_count": null,
      "outputs": []
    },
    {
      "cell_type": "code",
      "metadata": {
        "id": "B_ddtaqYpCB9"
      },
      "source": [
        "train_images=train_images/255"
      ],
      "execution_count": null,
      "outputs": []
    },
    {
      "cell_type": "code",
      "metadata": {
        "id": "f9TxkqP6pCEo"
      },
      "source": [
        "test_images = test_images/255"
      ],
      "execution_count": null,
      "outputs": []
    },
    {
      "cell_type": "code",
      "metadata": {
        "id": "pzgZQLXScCob"
      },
      "source": [
        "from kerastuner import RandomSearch\r\n",
        "from kerastuner.engine.hyperparameters import HyperParameters\r\n",
        "def build_model(hp):  \r\n",
        "  model = keras.Sequential([\r\n",
        "    keras.layers.Conv2D(\r\n",
        "        filters=hp.Int('conv_1_filter', min_value=32, max_value=128, step=16),\r\n",
        "        kernel_size=hp.Choice('conv_1_kernel', values = [3,5]),\r\n",
        "        activation='relu',\r\n",
        "        input_shape=(28,28,1)\r\n",
        "    ),\r\n",
        "    keras.layers.Conv2D(\r\n",
        "        filters=hp.Int('conv_2_filter', min_value=32, max_value=64, step=16),\r\n",
        "        kernel_size=hp.Choice('conv_2_kernel', values = [3,5]),\r\n",
        "        activation='relu'\r\n",
        "    ),\r\n",
        "    keras.layers.Flatten(),\r\n",
        "    keras.layers.Dense(\r\n",
        "        units=hp.Int('dense_1_units', min_value=32, max_value=128, step=16),\r\n",
        "        activation='relu'\r\n",
        "    ),\r\n",
        "    keras.layers.Dense(10, activation='softmax')\r\n",
        "  ])\r\n",
        "  \r\n",
        "  model.compile(optimizer=keras.optimizers.Adam(hp.Choice('learning_rate', values=[1e-2, 1e-3])),\r\n",
        "              loss='sparse_categorical_crossentropy',\r\n",
        "              metrics=['accuracy'])\r\n",
        "  model.summary()\r\n",
        "  return model"
      ],
      "execution_count": null,
      "outputs": []
    },
    {
      "cell_type": "code",
      "metadata": {
        "id": "1iXR2bwqcK8C"
      },
      "source": [
        "tuner_search=RandomSearch(build_model,\r\n",
        "                          objective='val_accuracy',\r\n",
        "                          max_trials=2,directory='output',project_name=\"Mnist\")\r\n",
        "tuner_search.search(train_images,train_y,epochs=3,validation_split=0.1)\r\n",
        "model=tuner_search.get_best_models(num_models=1)[0]\r\n",
        "model.fit(train_images, train_y, epochs=10, validation_split=0.1, initial_epoch=3)"
      ],
      "execution_count": null,
      "outputs": []
    },
    {
      "cell_type": "code",
      "metadata": {
        "id": "AGZhPIw6cdiG"
      },
      "source": [
        "\"\"\"\r\n",
        "import keras\r\n",
        "from keras.datasets import mnist\r\n",
        "from keras.models import Sequential\r\n",
        "from keras.layers import Dense, Dropout, Flatten\r\n",
        "from keras.layers import Conv2D, MaxPooling2D\r\n",
        "from keras import backend as K\r\n",
        "batch_size = 128\r\n",
        "num_classes = 10\r\n",
        "epochs = 12\r\n",
        "# input image dimensions\r\n",
        "img_rows, img_cols = 28, 28\r\n",
        "# the data, split between train and test sets\r\n",
        "(x_train, y_train), (x_test, y_test) = mnist.load_data()\r\n",
        "\r\n",
        "x_train = x_train.reshape(x_train.shape[0], img_rows, img_cols, 1)\r\n",
        "x_test = x_test.reshape(x_test.shape[0], img_rows, img_cols, 1)\r\n",
        "input_shape = (img_rows, img_cols, 1)    \r\n",
        "x_train = x_train.astype('float32')\r\n",
        "x_test = x_test.astype('float32')\r\n",
        "x_train /= 255\r\n",
        "x_test /= 255\r\n",
        "print('x_train shape:', x_train.shape)\r\n",
        "print(x_train.shape[0], 'train samples')\r\n",
        "print(x_test.shape[0], 'test samples')\r\n",
        "# convert class vectors to binary class matrices\r\n",
        "y_train = keras.utils.to_categorical(y_train, num_classes)\r\n",
        "y_test = keras.utils.to_categorical(y_test, num_classes)\r\n",
        "model = Sequential()\r\n",
        "model.add(Conv2D(32, kernel_size=(3, 3),\r\n",
        "                 activation='relu',\r\n",
        "                 input_shape=input_shape))\r\n",
        "model.add(Conv2D(64, (3, 3), activation='relu'))\r\n",
        "model.add(MaxPooling2D(pool_size=(2, 2)))\r\n",
        "model.add(Dropout(0.25))\r\n",
        "model.add(Flatten())\r\n",
        "model.add(Dense(128, activation='relu'))\r\n",
        "model.add(Dropout(0.5))\r\n",
        "model.add(Dense(num_classes, activation='softmax'))\r\n",
        "model.compile(loss=keras.losses.categorical_crossentropy,\r\n",
        "              optimizer=keras.optimizers.Adadelta(),\r\n",
        "              metrics=['accuracy'])\r\n",
        "model.fit(x_train, y_train,\r\n",
        "          batch_size=batch_size,\r\n",
        "          epochs=5,\r\n",
        "          verbose=1,\r\n",
        "          validation_data=(x_test, y_test))\r\n",
        "score = model.evaluate(x_test, y_test, verbose=0)\r\n",
        "print('Test loss:', score[0])\r\n",
        "print('Test accuracy:', score[1])\r\n",
        "model.save_weights(\"model.h5\")\"\"\""
      ],
      "execution_count": null,
      "outputs": []
    },
    {
      "cell_type": "code",
      "metadata": {
        "id": "J55lz8FMnutc"
      },
      "source": [
        "model.summary()"
      ],
      "execution_count": null,
      "outputs": []
    }
  ]
}