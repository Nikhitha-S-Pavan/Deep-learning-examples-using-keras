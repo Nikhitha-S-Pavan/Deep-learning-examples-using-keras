{
  "nbformat": 4,
  "nbformat_minor": 0,
  "metadata": {
    "colab": {
      "name": "Hyperparameter_reg_example_sklearn.ipynb",
      "provenance": [],
      "collapsed_sections": [],
      "authorship_tag": "ABX9TyPXA81Zyzo+ylg9DbukxDsg",
      "include_colab_link": true
    },
    "kernelspec": {
      "name": "python3",
      "display_name": "Python 3"
    },
    "accelerator": "GPU"
  },
  "cells": [
    {
      "cell_type": "markdown",
      "metadata": {
        "id": "view-in-github",
        "colab_type": "text"
      },
      "source": [
        "<a href=\"https://colab.research.google.com/github/Nikhitha-S-Pavan/Deep-learning-examples-using-keras/blob/main/Hyperparameter_reg_example_sklearn.ipynb\" target=\"_parent\"><img src=\"https://colab.research.google.com/assets/colab-badge.svg\" alt=\"Open In Colab\"/></a>"
      ]
    },
    {
      "cell_type": "code",
      "metadata": {
        "id": "yD1VNKTxwAOc"
      },
      "source": [
        "# Code to read csv file into Colaboratory:\n",
        "!pip install -U -q PyDrive\n",
        "from pydrive.auth import GoogleAuth\n",
        "from pydrive.drive import GoogleDrive\n",
        "from google.colab import auth\n",
        "from oauth2client.client import GoogleCredentials\n",
        "# Authenticate and create the PyDrive client.\n",
        "auth.authenticate_user()\n",
        "gauth = GoogleAuth()\n",
        "gauth.credentials = GoogleCredentials.get_application_default()\n",
        "drive = GoogleDrive(gauth)"
      ],
      "execution_count": null,
      "outputs": []
    },
    {
      "cell_type": "code",
      "metadata": {
        "id": "aKiDeH9L0sb4"
      },
      "source": [
        "#!pip install scikit-learn==0.21.2"
      ],
      "execution_count": null,
      "outputs": []
    },
    {
      "cell_type": "code",
      "metadata": {
        "id": "luY37Hm6wMgO"
      },
      "source": [
        "link = \"https://drive.google.com/file/d/1xcQiEX1nRa_F-OyiHj6fnC_CGrO33ldQ/view?usp=sharing\""
      ],
      "execution_count": null,
      "outputs": []
    },
    {
      "cell_type": "code",
      "metadata": {
        "colab": {
          "base_uri": "https://localhost:8080/"
        },
        "id": "vU2sMYwhwz2L",
        "outputId": "963a6d1c-e2da-4172-8835-c35344025c7a"
      },
      "source": [
        "id= link.split('/')[-2]\n",
        "print (id) # Verify that you have everything after '='"
      ],
      "execution_count": 3,
      "outputs": [
        {
          "output_type": "stream",
          "text": [
            "1xcQiEX1nRa_F-OyiHj6fnC_CGrO33ldQ\n"
          ],
          "name": "stdout"
        }
      ]
    },
    {
      "cell_type": "code",
      "metadata": {
        "id": "NbPZvIPsySFU"
      },
      "source": [
        "import pandas as pd"
      ],
      "execution_count": 4,
      "outputs": []
    },
    {
      "cell_type": "code",
      "metadata": {
        "id": "hSmMFYEtw5q1"
      },
      "source": [
        "downloaded = drive.CreateFile({'id':id}) \n",
        "downloaded.GetContentFile('Churn_Modelling.csv')  \n"
      ],
      "execution_count": 5,
      "outputs": []
    },
    {
      "cell_type": "code",
      "metadata": {
        "id": "3WGEzjL7yxA-"
      },
      "source": [
        "# -*- coding: utf-8 -*-\n",
        "\"\"\"\n",
        "Created on Mon Aug  5 13:30:38 2019\n",
        "@author: nikhitha pavan\n",
        "\"\"\"\n",
        "\n",
        "# Artificial Neural Network\n",
        "\n",
        "\n",
        "# Part 1 - Data Preprocessing\n",
        "\n",
        "# Importing the libraries\n",
        "import numpy as np\n",
        "import matplotlib.pyplot as plt\n",
        "import pandas as pd"
      ],
      "execution_count": 6,
      "outputs": []
    },
    {
      "cell_type": "code",
      "metadata": {
        "colab": {
          "base_uri": "https://localhost:8080/"
        },
        "id": "9ni5hSIIyzw_",
        "outputId": "cf7b9fc4-831d-4d57-a2f1-8dd8ab6a9bbe"
      },
      "source": [
        "# Importing the dataset\n",
        "dataset = pd.read_csv('Churn_Modelling.csv')\n",
        "X = dataset.iloc[:, 3:13]\n",
        "y = dataset.iloc[:, 13]\n",
        "print(dataset)"
      ],
      "execution_count": 7,
      "outputs": [
        {
          "output_type": "stream",
          "text": [
            "      RowNumber  CustomerId    Surname  ...  IsActiveMember EstimatedSalary Exited\n",
            "0             1    15634602   Hargrave  ...               1       101348.88      1\n",
            "1             2    15647311       Hill  ...               1       112542.58      0\n",
            "2             3    15619304       Onio  ...               0       113931.57      1\n",
            "3             4    15701354       Boni  ...               0        93826.63      0\n",
            "4             5    15737888   Mitchell  ...               1        79084.10      0\n",
            "...         ...         ...        ...  ...             ...             ...    ...\n",
            "9995       9996    15606229   Obijiaku  ...               0        96270.64      0\n",
            "9996       9997    15569892  Johnstone  ...               1       101699.77      0\n",
            "9997       9998    15584532        Liu  ...               1        42085.58      1\n",
            "9998       9999    15682355  Sabbatini  ...               0        92888.52      1\n",
            "9999      10000    15628319     Walker  ...               0        38190.78      0\n",
            "\n",
            "[10000 rows x 14 columns]\n"
          ],
          "name": "stdout"
        }
      ]
    },
    {
      "cell_type": "code",
      "metadata": {
        "id": "c6zlOZlAzB1D"
      },
      "source": [
        "#Create dummy variables\n",
        "geography=pd.get_dummies(X[\"Geography\"],drop_first=True)\n",
        "gender=pd.get_dummies(X['Gender'],drop_first=True)"
      ],
      "execution_count": 8,
      "outputs": []
    },
    {
      "cell_type": "code",
      "metadata": {
        "colab": {
          "base_uri": "https://localhost:8080/"
        },
        "id": "lWznmpS2zFFS",
        "outputId": "5aea2c04-b667-4319-e37c-5d54b3f614d1"
      },
      "source": [
        "## Concatenate the Data Frames\n",
        "\n",
        "X=pd.concat([X,geography,gender],axis=1)\n",
        "\n",
        "print(X)"
      ],
      "execution_count": 9,
      "outputs": [
        {
          "output_type": "stream",
          "text": [
            "      CreditScore Geography  Gender  Age  ...  EstimatedSalary  Germany  Spain  Male\n",
            "0             619    France  Female   42  ...        101348.88        0      0     0\n",
            "1             608     Spain  Female   41  ...        112542.58        0      1     0\n",
            "2             502    France  Female   42  ...        113931.57        0      0     0\n",
            "3             699    France  Female   39  ...         93826.63        0      0     0\n",
            "4             850     Spain  Female   43  ...         79084.10        0      1     0\n",
            "...           ...       ...     ...  ...  ...              ...      ...    ...   ...\n",
            "9995          771    France    Male   39  ...         96270.64        0      0     1\n",
            "9996          516    France    Male   35  ...        101699.77        0      0     1\n",
            "9997          709    France  Female   36  ...         42085.58        0      0     0\n",
            "9998          772   Germany    Male   42  ...         92888.52        1      0     1\n",
            "9999          792    France  Female   28  ...         38190.78        0      0     0\n",
            "\n",
            "[10000 rows x 13 columns]\n"
          ],
          "name": "stdout"
        }
      ]
    },
    {
      "cell_type": "code",
      "metadata": {
        "id": "ScfokN8bzJcM"
      },
      "source": [
        "## Drop Unnecessary columns\n",
        "X=X.drop(['Geography','Gender'],axis=1)\n"
      ],
      "execution_count": 10,
      "outputs": []
    },
    {
      "cell_type": "code",
      "metadata": {
        "id": "zlp3WdehzMTm"
      },
      "source": [
        "\n",
        "# Splitting the dataset into the Training set and Test set\n",
        "from sklearn.model_selection import train_test_split\n",
        "X_train, X_test, y_train, y_test = train_test_split(X, y, test_size = 0.2, random_state = 0)\n"
      ],
      "execution_count": 11,
      "outputs": []
    },
    {
      "cell_type": "code",
      "metadata": {
        "id": "L4E72q6EzOpZ"
      },
      "source": [
        "\n",
        "# Feature Scaling\n",
        "from sklearn.preprocessing import StandardScaler\n",
        "sc = StandardScaler()\n",
        "X_train = sc.fit_transform(X_train)\n",
        "X_test = sc.transform(X_test)\n"
      ],
      "execution_count": 12,
      "outputs": []
    },
    {
      "cell_type": "code",
      "metadata": {
        "id": "kDq2cYWUzOzE"
      },
      "source": [
        "\n",
        "## Perform Hyperparameter Optimization\n",
        "import keras\n",
        "from keras.wrappers.scikit_learn import KerasClassifier\n",
        "from sklearn.model_selection import GridSearchCV\n",
        "\n",
        "from keras.models import Sequential\n",
        "from keras.layers import Dense, Activation, Embedding, Flatten, LeakyReLU, BatchNormalization, Dropout\n",
        "from keras.activations import relu, sigmoid\n",
        "\n",
        "\n"
      ],
      "execution_count": 13,
      "outputs": []
    },
    {
      "cell_type": "code",
      "metadata": {
        "id": "C97kNpYKzPBP"
      },
      "source": [
        "def create_model(layers, activation):\n",
        "    model = Sequential()\n",
        "    for i, nodes in enumerate(layers):\n",
        "        if i==0:\n",
        "            model.add(Dense(nodes,input_dim=X_train.shape[1]))\n",
        "            model.add(Activation(activation))\n",
        "            model.add(Dropout(0.3))\n",
        "        else:\n",
        "            model.add(Dense(nodes))\n",
        "            model.add(Activation(activation))\n",
        "            model.add(Dropout(0.3))\n",
        "            \n",
        "    model.add(Dense(units = 1, kernel_initializer= 'glorot_uniform', activation = 'sigmoid')) # Note: no activation beyond this point\n",
        "    \n",
        "    model.compile(optimizer='adam', loss='binary_crossentropy',metrics=['accuracy'])\n",
        "    return model\n",
        "    \n",
        "model = KerasClassifier(build_fn=create_model, verbose=0)\n",
        "\n",
        "\n"
      ],
      "execution_count": 14,
      "outputs": []
    },
    {
      "cell_type": "code",
      "metadata": {
        "id": "I7YYc5tNzPDd"
      },
      "source": [
        "layers = [[20], [15,30],[15,30,45]]\n",
        "activations = [ 'sigmoid','relu']"
      ],
      "execution_count": 19,
      "outputs": []
    },
    {
      "cell_type": "code",
      "metadata": {
        "colab": {
          "base_uri": "https://localhost:8080/"
        },
        "id": "cLhZ1LfBz6hz",
        "outputId": "2aed6460-09ab-49ac-835e-8457aa19b1ca"
      },
      "source": [
        ""
      ],
      "execution_count": 16,
      "outputs": [
        {
          "output_type": "stream",
          "text": [
            "Requirement already satisfied: scikit-learn==0.21.2 in /usr/local/lib/python3.6/dist-packages (0.21.2)\n",
            "Requirement already satisfied: joblib>=0.11 in /usr/local/lib/python3.6/dist-packages (from scikit-learn==0.21.2) (0.17.0)\n",
            "Requirement already satisfied: numpy>=1.11.0 in /usr/local/lib/python3.6/dist-packages (from scikit-learn==0.21.2) (1.18.5)\n",
            "Requirement already satisfied: scipy>=0.17.0 in /usr/local/lib/python3.6/dist-packages (from scikit-learn==0.21.2) (1.4.1)\n"
          ],
          "name": "stdout"
        }
      ]
    },
    {
      "cell_type": "code",
      "metadata": {
        "colab": {
          "base_uri": "https://localhost:8080/"
        },
        "id": "BPv7Ii2pzZNn",
        "outputId": "8e9046fc-2977-40c4-ad22-188eca797876"
      },
      "source": [
        "param_grid = dict(layers=layers, activation=activations, batch_size = [2], epochs=[5])\n",
        "grid = GridSearchCV(estimator=model, param_grid=param_grid,cv=5)\n",
        "\n",
        "grid_result = grid.fit(X_train, y_train)\n",
        "\n",
        "[grid_result.best_score_,grid_result.best_params_]"
      ],
      "execution_count": 21,
      "outputs": [
        {
          "output_type": "execute_result",
          "data": {
            "text/plain": [
              "[0.8538750052452088,\n",
              " {'activation': 'relu', 'batch_size': 2, 'epochs': 5, 'layers': [20]}]"
            ]
          },
          "metadata": {
            "tags": []
          },
          "execution_count": 21
        }
      ]
    }
  ]
}