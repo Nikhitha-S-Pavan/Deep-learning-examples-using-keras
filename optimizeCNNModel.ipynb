{
  "nbformat": 4,
  "nbformat_minor": 0,
  "metadata": {
    "colab": {
      "name": "optimizeCNNModel.ipynb",
      "private_outputs": true,
      "provenance": [],
      "collapsed_sections": []
    },
    "kernelspec": {
      "name": "python3",
      "display_name": "Python 3"
    }
  },
  "cells": [
    {
      "cell_type": "code",
      "metadata": {
        "id": "BhcdTUvJWrTf"
      },
      "source": [
        "!pip install keras-tuner"
      ],
      "execution_count": null,
      "outputs": []
    },
    {
      "cell_type": "code",
      "metadata": {
        "id": "OSmDUkQtX5O1"
      },
      "source": [
        "import tensorflow as tf\r\n",
        "from tensorflow import keras\r\n",
        "import numpy as np"
      ],
      "execution_count": null,
      "outputs": []
    },
    {
      "cell_type": "code",
      "metadata": {
        "id": "fmaC4F-xX8bv"
      },
      "source": [
        "fashion_mnist=keras.datasets.fashion_mnist"
      ],
      "execution_count": null,
      "outputs": []
    },
    {
      "cell_type": "code",
      "metadata": {
        "id": "HjaM5TxUX8eZ"
      },
      "source": [
        "(train_images,train_labels),(test_images,test_labels)=fashion_mnist.load_data()"
      ],
      "execution_count": null,
      "outputs": []
    },
    {
      "cell_type": "code",
      "metadata": {
        "id": "JSmaqgPCX8g_"
      },
      "source": [
        "train_images=train_images/255.0\r\n",
        "test_images=test_images/255.0"
      ],
      "execution_count": null,
      "outputs": []
    },
    {
      "cell_type": "code",
      "metadata": {
        "id": "snAXka4nX8jp"
      },
      "source": [
        "train_images[0].shape"
      ],
      "execution_count": null,
      "outputs": []
    },
    {
      "cell_type": "code",
      "metadata": {
        "id": "ZUuwF3hPYziE"
      },
      "source": [
        "print(train_labels)"
      ],
      "execution_count": null,
      "outputs": []
    },
    {
      "cell_type": "code",
      "metadata": {
        "id": "ZKmh61w1X8l1"
      },
      "source": [
        "train_images=train_images.reshape(len(train_images),28,28,1)\r\n",
        "test_images=test_images.reshape(len(test_images),28,28,1)"
      ],
      "execution_count": null,
      "outputs": []
    },
    {
      "cell_type": "code",
      "metadata": {
        "id": "Z0Ftk97hX8oV"
      },
      "source": [
        "def build_model(hp):  \r\n",
        "  model = keras.Sequential([\r\n",
        "    keras.layers.Conv2D(\r\n",
        "        filters=hp.Int('conv_1_filter', min_value=32, max_value=128, step=16),\r\n",
        "        kernel_size=hp.Choice('conv_1_kernel', values = [3,5]),\r\n",
        "        activation='relu',\r\n",
        "        input_shape=(28,28,1)\r\n",
        "    ),\r\n",
        "    keras.layers.Conv2D(\r\n",
        "        filters=hp.Int('conv_2_filter', min_value=32, max_value=64, step=16),\r\n",
        "        kernel_size=hp.Choice('conv_2_kernel', values = [3,5]),\r\n",
        "        activation='relu'\r\n",
        "    ),\r\n",
        "    keras.layers.Flatten(),\r\n",
        "    keras.layers.Dense(\r\n",
        "        units=hp.Int('dense_1_units', min_value=32, max_value=128, step=16),\r\n",
        "        activation='relu'\r\n",
        "    ),\r\n",
        "    keras.layers.Dense(10, activation='softmax')\r\n",
        "  ])\r\n",
        "  \r\n",
        "  model.compile(optimizer=keras.optimizers.Adam(hp.Choice('learning_rate', values=[1e-2, 1e-3])),\r\n",
        "              loss='sparse_categorical_crossentropy',\r\n",
        "              metrics=['accuracy'])\r\n",
        "  \r\n",
        "  return model"
      ],
      "execution_count": null,
      "outputs": []
    },
    {
      "cell_type": "code",
      "metadata": {
        "id": "H0zi73J0X8qE"
      },
      "source": [
        "from kerastuner import RandomSearch\r\n",
        "from kerastuner.engine.hyperparameters import HyperParameters"
      ],
      "execution_count": null,
      "outputs": []
    },
    {
      "cell_type": "code",
      "metadata": {
        "id": "J1kfjklHX8sf"
      },
      "source": [
        "tuner_search=RandomSearch(build_model,\r\n",
        "                          objective='val_accuracy',\r\n",
        "                          max_trials=2,directory='output',project_name=\"Mnist Fashion\")"
      ],
      "execution_count": null,
      "outputs": []
    },
    {
      "cell_type": "code",
      "metadata": {
        "id": "0UtgSrrRX81S"
      },
      "source": [
        "tuner_search.search(train_images,train_labels,epochs=3,validation_split=0.1)"
      ],
      "execution_count": null,
      "outputs": []
    },
    {
      "cell_type": "code",
      "metadata": {
        "id": "ZP7SwGyeX84I"
      },
      "source": [
        "model=tuner_search.get_best_models(num_models=1)[0]"
      ],
      "execution_count": null,
      "outputs": []
    },
    {
      "cell_type": "code",
      "metadata": {
        "id": "TOFhsNoCuZB8"
      },
      "source": [
        "model.summary()"
      ],
      "execution_count": null,
      "outputs": []
    },
    {
      "cell_type": "code",
      "metadata": {
        "id": "99N8GI4Ruc1F"
      },
      "source": [
        "model.fit(train_images, train_labels, epochs=10, validation_split=0.1, initial_epoch=3)"
      ],
      "execution_count": null,
      "outputs": []
    }
  ]
}